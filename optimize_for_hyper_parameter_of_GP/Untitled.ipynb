{
 "cells": [
  {
   "cell_type": "code",
   "execution_count": 1,
   "metadata": {},
   "outputs": [],
   "source": [
    "import numpy as np"
   ]
  },
  {
   "cell_type": "code",
   "execution_count": 69,
   "metadata": {},
   "outputs": [],
   "source": [
    "class Kernel():\n",
    "    def __init__(self,param,bound=None):\n",
    "        self.param = np.array(param)\n",
    "        if(bound==None):\n",
    "            bound = np.zeros([len(param),2])\n",
    "            bound[:,1] = np.inf\n",
    "        self.bound = np.array(bound)\n",
    "\n",
    "    def __call__(self,x1,x2) -> float:\n",
    "        \"\"\" ガウスカーネルを計算する。\n",
    "            k(x1, x2) = a1*exp(-s*|x - x2|^2)\n",
    "\n",
    "        Args:\n",
    "            x1 (np.array)   : 入力値1\n",
    "            x2 (np.array)   : 入力値2\n",
    "            param (np.array): ガウスカーネルのパラメータ\n",
    "\n",
    "        Returns:\n",
    "            float: ガウスカーネルの値\n",
    "        \n",
    "        \"\"\"\n",
    "        \n",
    "        return self.param[0]*np.exp(-1*(x1-x2)**2/self.param[1]) + self.param[2]*(x1==x2)"
   ]
  },
  {
   "cell_type": "code",
   "execution_count": 106,
   "metadata": {},
   "outputs": [],
   "source": [
    "x = np.random.uniform(0,10, 3)\n",
    "xu = np.random.uniform(0,10,2)\n",
    "a, b = np.meshgrid(x,xu, indexing='ij')"
   ]
  },
  {
   "cell_type": "code",
   "execution_count": 120,
   "metadata": {},
   "outputs": [],
   "source": [
    "def kgrad(xi, xj, d):\n",
    "    if d == 0:   \n",
    "        return 2*np.exp(-1*((xi-xj)**2))\n",
    "    elif d == 1:\n",
    "        return np.exp(-1*((xi-xj)**2))*(((xi-xj)**2))\n",
    "    elif d == 2:\n",
    "        return (xj==xi)"
   ]
  },
  {
   "cell_type": "code",
   "execution_count": 121,
   "metadata": {},
   "outputs": [
    {
     "data": {
      "text/plain": [
       "array([[0.        , 0.36787944, 0.07326256],\n",
       "       [0.36787944, 0.        , 0.36787944],\n",
       "       [0.07326256, 0.36787944, 0.        ]])"
      ]
     },
     "execution_count": 121,
     "metadata": {},
     "output_type": "execute_result"
    }
   ],
   "source": [
    "xd = np.array([1,2,3])\n",
    "\n",
    "kgrad(*np.meshgrid(xd,xd), 1)"
   ]
  },
  {
   "cell_type": "code",
   "execution_count": null,
   "metadata": {},
   "outputs": [],
   "source": []
  }
 ],
 "metadata": {
  "kernelspec": {
   "display_name": "Python 3",
   "language": "python",
   "name": "python3"
  },
  "language_info": {
   "codemirror_mode": {
    "name": "ipython",
    "version": 3
   },
   "file_extension": ".py",
   "mimetype": "text/x-python",
   "name": "python",
   "nbconvert_exporter": "python",
   "pygments_lexer": "ipython3",
   "version": "3.7.6"
  }
 },
 "nbformat": 4,
 "nbformat_minor": 2
}
