{
 "cells": [
  {
   "cell_type": "markdown",
   "metadata": {},
   "source": [
    "np.ndarray.argmin(axis=None, out=None)\n",
    "\n",
    "params:\n",
    "パラメータ名\t型\t概要 \n",
    "\n",
    "axis\tint\t(省略可能)初期値None\n",
    "\n",
    "最小値を読み取る軸の方向を指定します。\n",
    "\n",
    "out\tarray_like\n",
    "\n",
    "(配列に相当するもの)\t(省略可能)初期値None\n",
    "返されたインデックスの値を収納する配列を指定します。\n",
    "\n",
    "returns:\n",
    "\n",
    "指定された配列、軸方向のなかで最小値がある最初に出現する値のインデックスを返します。"
   ]
  },
  {
   "cell_type": "code",
   "execution_count": 1,
   "metadata": {},
   "outputs": [],
   "source": [
    "import numpy as np"
   ]
  },
  {
   "cell_type": "code",
   "execution_count": 3,
   "metadata": {},
   "outputs": [],
   "source": [
    "d = np.array([\n",
    "    [1.2, 1.5, 2.3, 1.8],\n",
    "    [0.2, 2.5, 2.1, 2.0],\n",
    "    [3.1, 3.3, 1.5, 2.1]])"
   ]
  },
  {
   "cell_type": "code",
   "execution_count": 4,
   "metadata": {},
   "outputs": [
    {
     "data": {
      "text/plain": [
       "4"
      ]
     },
     "execution_count": 4,
     "metadata": {},
     "output_type": "execute_result"
    }
   ],
   "source": [
    "d.argmin()"
   ]
  },
  {
   "cell_type": "code",
   "execution_count": 5,
   "metadata": {},
   "outputs": [
    {
     "data": {
      "text/plain": [
       "4"
      ]
     },
     "execution_count": 5,
     "metadata": {},
     "output_type": "execute_result"
    }
   ],
   "source": [
    "np.argmin(d)"
   ]
  },
  {
   "cell_type": "code",
   "execution_count": 6,
   "metadata": {},
   "outputs": [
    {
     "data": {
      "text/plain": [
       "(1, 0)"
      ]
     },
     "execution_count": 6,
     "metadata": {},
     "output_type": "execute_result"
    }
   ],
   "source": [
    "np.unravel_index(np.argmin(d), d.shape)"
   ]
  },
  {
   "cell_type": "code",
   "execution_count": 7,
   "metadata": {},
   "outputs": [
    {
     "data": {
      "text/plain": [
       "array([1, 0, 2, 0], dtype=int64)"
      ]
     },
     "execution_count": 7,
     "metadata": {},
     "output_type": "execute_result"
    }
   ],
   "source": [
    "np.argmin(d, axis=0)"
   ]
  },
  {
   "cell_type": "code",
   "execution_count": 8,
   "metadata": {},
   "outputs": [
    {
     "name": "stdout",
     "output_type": "stream",
     "text": [
      "[0.         0.00800801 0.01601602 0.02402402 0.03203203 0.04004004\n",
      " 0.04804805 0.05605606 0.06406406 0.07207207]\n"
     ]
    }
   ],
   "source": [
    "range_X = np.linspace(0,8,num=1000)\n",
    "\n",
    "print(range_X[:10])"
   ]
  },
  {
   "cell_type": "code",
   "execution_count": 22,
   "metadata": {},
   "outputs": [],
   "source": [
    "def project(z):\n",
    "    d = [z] * len(range_X)\n",
    "    index_range_X = np.argmin(d-range_X)\n",
    "    return range_X[index_range_X]"
   ]
  },
  {
   "cell_type": "code",
   "execution_count": 23,
   "metadata": {},
   "outputs": [
    {
     "data": {
      "text/plain": [
       "8.0"
      ]
     },
     "execution_count": 23,
     "metadata": {},
     "output_type": "execute_result"
    }
   ],
   "source": [
    "project(10)"
   ]
  },
  {
   "cell_type": "code",
   "execution_count": null,
   "metadata": {},
   "outputs": [],
   "source": []
  }
 ],
 "metadata": {
  "kernelspec": {
   "display_name": "Python 3",
   "language": "python",
   "name": "python3"
  },
  "language_info": {
   "codemirror_mode": {
    "name": "ipython",
    "version": 3
   },
   "file_extension": ".py",
   "mimetype": "text/x-python",
   "name": "python",
   "nbconvert_exporter": "python",
   "pygments_lexer": "ipython3",
   "version": "3.7.3"
  }
 },
 "nbformat": 4,
 "nbformat_minor": 2
}
