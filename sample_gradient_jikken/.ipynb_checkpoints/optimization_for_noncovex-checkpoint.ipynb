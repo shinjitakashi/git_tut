{
 "cells": [
  {
   "cell_type": "code",
   "execution_count": 37,
   "metadata": {},
   "outputs": [],
   "source": [
    "import numpy as np\n",
    "\n",
    "class Agent_gradient(object):\n",
    "    def __init__(self, N, n, name, stepsize, eventtrigger):\n",
    "        self.N = N\n",
    "        self.n = n\n",
    "        self.name = name\n",
    "        self.stepsize = stepsize\n",
    "        self.eventtrigger = eventtrigger\n",
    "        \n",
    "        self.initial_state()\n",
    "    \n",
    "    def grad(self, i, z):\n",
    "        if i == 0:\n",
    "            return 10\n",
    "        elif i == 1:\n",
    "            return 2*z\n",
    "        elif i == 2:\n",
    "            return 3*z^2\n",
    "    \n",
    "    def initial_state(self):\n",
    "        self.z_i = np.random.random_integers(-6,6)\n",
    "        self.z = np.zeros([self.N, self.n])\n",
    "\n",
    "    def step_size(self, t, a=stepsize):\n",
    "        return a/t\n",
    "    \n",
    "    def event_trigger(self, t, eventtrigger=eventtrigger):\n",
    "        return eventtrigger / (t + 1)\n",
    "    \n",
    "    def update(self, t):\n",
    "       self.z[self.name] = self.z_i\n",
    "       self.z_i = self.z_i - self.step_size(t, self.stepsize) * self.grad(self.name, self.z[self.name])\n",
    "# ============================================================================= #\n",
    "#parameter \n",
    "\n",
    "N = 3\n",
    "n = 1\n",
    "stepsize = 0.5\n",
    "eventtrigger = 10"
   ]
  },
  {
   "cell_type": "code",
   "execution_count": 38,
   "metadata": {},
   "outputs": [
    {
     "name": "stderr",
     "output_type": "stream",
     "text": [
      "C:\\Users\\Adachi Takashi\\Anaconda3\\lib\\site-packages\\ipykernel_launcher.py:22: DeprecationWarning: This function is deprecated. Please call randint(-6, 6 + 1) instead\n"
     ]
    }
   ],
   "source": [
    "A1 = Agent_gradient(N, n, 0, stepsize, eventtrigger)"
   ]
  },
  {
   "cell_type": "code",
   "execution_count": 39,
   "metadata": {},
   "outputs": [
    {
     "data": {
      "text/plain": [
       "<__main__.Agent_gradient at 0x2466318e7b8>"
      ]
     },
     "execution_count": 39,
     "metadata": {},
     "output_type": "execute_result"
    }
   ],
   "source": [
    "A1"
   ]
  },
  {
   "cell_type": "code",
   "execution_count": 40,
   "metadata": {},
   "outputs": [
    {
     "data": {
      "text/plain": [
       "0.5"
      ]
     },
     "execution_count": 40,
     "metadata": {},
     "output_type": "execute_result"
    }
   ],
   "source": [
    "A1.stepsize\n"
   ]
  },
  {
   "cell_type": "code",
   "execution_count": 41,
   "metadata": {},
   "outputs": [
    {
     "data": {
      "text/plain": [
       "0.16666666666666666"
      ]
     },
     "execution_count": 41,
     "metadata": {},
     "output_type": "execute_result"
    }
   ],
   "source": [
    "A1.step_size(3)"
   ]
  },
  {
   "cell_type": "code",
   "execution_count": 42,
   "metadata": {},
   "outputs": [
    {
     "data": {
      "text/plain": [
       "0.19607843137254902"
      ]
     },
     "execution_count": 42,
     "metadata": {},
     "output_type": "execute_result"
    }
   ],
   "source": [
    "A1.event_trigger(50)"
   ]
  },
  {
   "cell_type": "code",
   "execution_count": 43,
   "metadata": {},
   "outputs": [
    {
     "data": {
      "text/plain": [
       "10"
      ]
     },
     "execution_count": 43,
     "metadata": {},
     "output_type": "execute_result"
    }
   ],
   "source": [
    "A1.grad(0, 5)"
   ]
  },
  {
   "cell_type": "code",
   "execution_count": null,
   "metadata": {},
   "outputs": [],
   "source": []
  }
 ],
 "metadata": {
  "kernelspec": {
   "display_name": "Python 3",
   "language": "python",
   "name": "python3"
  },
  "language_info": {
   "codemirror_mode": {
    "name": "ipython",
    "version": 3
   },
   "file_extension": ".py",
   "mimetype": "text/x-python",
   "name": "python",
   "nbconvert_exporter": "python",
   "pygments_lexer": "ipython3",
   "version": "3.7.3"
  }
 },
 "nbformat": 4,
 "nbformat_minor": 2
}
